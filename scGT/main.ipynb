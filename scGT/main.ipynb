{
 "cells": [
  {
   "cell_type": "code",
   "execution_count": 1,
   "id": "ef44b856-f0a6-47b2-91d7-7ac74a27eae5",
   "metadata": {
    "tags": []
   },
   "outputs": [
    {
     "name": "stderr",
     "output_type": "stream",
     "text": [
      "WARNING:root:The OGB package is out of date. Your version is 1.3.1, while the latest version is 1.3.6.\n"
     ]
    },
    {
     "data": {
      "text/plain": [
       "'\\npython main.py --dataset deezer-europe --rand_split --metric rocauc --method nodeformer --lr 1e-5 --weight_decay 5e-2 --num_layers 2 --num_heads 1 --rb_order 2 --rb_trans sigmoid --lamda 0.01 --M 30 --K 10 --use_bn --use_residual --use_gumbel --runs 5 --epochs 1000 --device 0\\n'"
      ]
     },
     "execution_count": 1,
     "metadata": {},
     "output_type": "execute_result"
    }
   ],
   "source": [
    "import scanpy as sc\n",
    "from torch.utils.tensorboard import SummaryWriter\n",
    "\n",
    "import argparse\n",
    "import sys\n",
    "import os, random\n",
    "import numpy as np\n",
    "import torch\n",
    "import torch.nn as nn\n",
    "import torch.nn.functional as F\n",
    "from torch_geometric.utils import to_undirected, remove_self_loops, add_self_loops\n",
    "import torch_geometric\n",
    "from sklearn.neighbors import kneighbors_graph\n",
    "from center_loss import CenterLoss, MMDLoss\n",
    "\n",
    "# 因为修改了dataset文件，直接import得到的一直是之前未修改的代码，所以要reload一下，先import，再reload\n",
    "import dataset\n",
    "import importlib\n",
    "importlib.reload(dataset)\n",
    "\n",
    "import logger\n",
    "importlib.reload(logger)\n",
    "\n",
    "from logger import Logger\n",
    "from dataset import input_dataset\n",
    "from data_utils import load_fixed_splits, adj_mul, get_gpu_memory_map\n",
    "\n",
    "import eval\n",
    "importlib.reload(eval)\n",
    "\n",
    "from eval import evaluate, eval_acc, eval_rocauc, eval_f1\n",
    "from parse import parse_method, parser_add_main_args\n",
    "import time\n",
    "\n",
    "import warnings\n",
    "warnings.filterwarnings('ignore')\n",
    "\n",
    "# NOTE: for consistent data splits, see data_utils.rand_train_test_idx\n",
    "def fix_seed(seed):\n",
    "    random.seed(seed)\n",
    "    np.random.seed(seed)\n",
    "    torch.manual_seed(seed)\n",
    "    torch.cuda.manual_seed(seed)\n",
    "    torch.backends.cudnn.deterministic = True\n",
    "\n",
    "'''\n",
    "python main.py --dataset deezer-europe --rand_split --metric rocauc --method nodeformer --lr 1e-5 \\\n",
    "--weight_decay 5e-2 --num_layers 2 --num_heads 1 --rb_order 2 --rb_trans sigmoid --lamda 0.01 \\\n",
    "--M 30 --K 10 --use_bn --use_residual --use_gumbel --runs 5 --epochs 1000 --device 0\n",
    "'''"
   ]
  },
  {
   "cell_type": "code",
   "execution_count": 2,
   "id": "aab23bd0-03e3-473b-bbbb-2955e2ad9d0c",
   "metadata": {
    "tags": []
   },
   "outputs": [
    {
     "name": "stdout",
     "output_type": "stream",
     "text": [
      "Namespace(K=15, M=35, batch_size=3000, cached=False, cpu=False, data_dir='../data/snarepca/', dataset='data', device=0, directed=False, dropout=0.0, epochs=5000, eval_step=10, gat_heads=2, gpr_alpha=0.1, hidden_channels=128, hops=1, jk_type='max', knn_num=5, label_num_per_class=20, lamda=0.4, lp_alpha=0.1, lr=1e-05, method='nodeformer', metric='acc', model_dir='../model/', num_heads=1, num_layers=2, num_mlp_layers=1, out_heads=1, projection_matrix_type=True, protocol='semi', rand_split=True, rand_split_class=False, rb_order=2, rb_trans='sigmoid', runs=1, save_model=True, seed=42, sub_dataset='', tau=0.25, train_prop=0.99, use_act=False, use_bn=True, use_gumbel=True, use_jk=False, use_residual=True, valid_prop=0.005, weight_decay=0.05)\n"
     ]
    }
   ],
   "source": [
    "parser = argparse.ArgumentParser()\n",
    "\n",
    "from gnns import *\n",
    "from nodeformer import *\n",
    "from data_utils import normalize\n",
    "\n",
    "default_args = {\n",
    "    'method': 'nodeformer',\n",
    "    'dataset': 'data',\n",
    "    'sub_dataset': '',\n",
    "    'data_dir': '../data/snarepca/', # 标明数据的位置\n",
    "    'device': 0,\n",
    "    'seed': 42,\n",
    "    'epochs': 5000,\n",
    "    'eval_step': 10,\n",
    "    'cpu': False,\n",
    "    'runs': 1,\n",
    "    'train_prop': 0.99,\n",
    "    'valid_prop': 0.005,\n",
    "    'protocol': 'semi',\n",
    "    'rand_split': True,\n",
    "    'rand_split_class': False,\n",
    "    'label_num_per_class': 20,\n",
    "    'metric': 'acc',\n",
    "    'knn_num': 5,\n",
    "    'save_model': True,\n",
    "    'model_dir': '../model/',\n",
    "    'hidden_channels': 128,\n",
    "    'dropout': 0.0,\n",
    "    'lr': 1e-5,\n",
    "    'weight_decay': 5e-2,\n",
    "    'num_layers': 2,\n",
    "    'num_heads': 1,\n",
    "    'M': 35,\n",
    "    'use_gumbel': True,\n",
    "    'use_residual': True,\n",
    "    'use_bn': True,\n",
    "    'use_act': False,\n",
    "    'use_jk': False,\n",
    "    'K': 15,\n",
    "    'tau': 0.25,\n",
    "    'lamda': 0.4,\n",
    "    'rb_order': 2,\n",
    "    'rb_trans': 'sigmoid',\n",
    "    'batch_size': 3000,\n",
    "    'hops': 1,\n",
    "    'cached': False,\n",
    "    'gat_heads': 2,\n",
    "    'out_heads': 1,\n",
    "    'projection_matrix_type': True,\n",
    "    'lp_alpha': 0.1,\n",
    "    'gpr_alpha': 0.1,\n",
    "    'directed': False,\n",
    "    'jk_type': 'max',\n",
    "    'num_mlp_layers': 1\n",
    "}\n",
    "\n",
    "args = argparse.Namespace(**default_args)\n",
    "print(args)\n",
    "\n",
    "##################### 上面都是设置命令行参数 #####################\n",
    "fix_seed(args.seed)\n",
    "\n",
    "if args.cpu:\n",
    "    device = torch.device(\"cpu\")\n",
    "else:\n",
    "    device = torch.device(\"cuda:\" + str(args.device)) if torch.cuda.is_available() else torch.device(\"cpu\")"
   ]
  },
  {
   "cell_type": "code",
   "execution_count": 3,
   "id": "7e329953-8043-46e3-80d0-2b379377709d",
   "metadata": {
    "tags": []
   },
   "outputs": [
    {
     "name": "stdout",
     "output_type": "stream",
     "text": [
      "CPU times: user 15.6 s, sys: 11.4 s, total: 27.1 s\n",
      "Wall time: 15.4 s\n"
     ]
    }
   ],
   "source": [
    "%%time\n",
    "import time\n",
    "\n",
    "### Load and preprocess data ###\n",
    "dataset = input_dataset(args.data_dir, args.dataset)\n",
    "\n",
    "if len(dataset.label.shape) == 1:\n",
    "    dataset.label = dataset.label.unsqueeze(1) # 若维度为一，则扩展为 (N, 1)张量\n",
    "dataset.label = dataset.label.to(device)"
   ]
  },
  {
   "cell_type": "code",
   "execution_count": 4,
   "id": "36c0c8e3-8956-4c59-a82c-471b54380bc5",
   "metadata": {
    "tags": []
   },
   "outputs": [
    {
     "data": {
      "text/plain": [
       "torch.Size([17630, 18738])"
      ]
     },
     "execution_count": 4,
     "metadata": {},
     "output_type": "execute_result"
    }
   ],
   "source": [
    "dataset.graph['node_feat'].shape"
   ]
  },
  {
   "cell_type": "code",
   "execution_count": 5,
   "id": "b3f8b952-918a-482e-861e-6bfed035f9da",
   "metadata": {
    "tags": []
   },
   "outputs": [
    {
     "name": "stdout",
     "output_type": "stream",
     "text": [
      "dataset data | num nodes 17630 | num edge 93035 | num node feats 18738 | num classes 22\n"
     ]
    }
   ],
   "source": [
    "# get the splits for all runs  划分数据集\n",
    "if args.rand_split:\n",
    "    split_idx_lst = [dataset.get_idx_split(train_prop=args.train_prop, valid_prop=args.valid_prop)\n",
    "                     for _ in range(args.runs)]\n",
    "elif args.rand_split_class:\n",
    "    split_idx_lst = [dataset.get_idx_split(split_type='class', label_num_per_class=args.label_num_per_class)\n",
    "                     for _ in range(args.runs)]\n",
    "elif args.dataset in ['ogbn-proteins', 'ogbn-arxiv', 'ogbn-products', 'amazon2m']:\n",
    "    split_idx_lst = [dataset.load_fixed_splits()\n",
    "                     for _ in range(args.runs)]\n",
    "else:\n",
    "    split_idx_lst = load_fixed_splits(args.data_dir, dataset, name=args.dataset, protocol=args.protocol)\n",
    "\n",
    "### Basic information of datasets 基本信息 ###\n",
    "n = dataset.graph['num_nodes']\n",
    "e = dataset.graph['edge_index'].shape[1]\n",
    "# infer the number of classes for non one-hot and one-hot labels\n",
    "c = max(dataset.label.max().item() + 1, dataset.label.shape[1])\n",
    "d = dataset.graph['node_feat'].shape[1]\n",
    "\n",
    "print(f\"dataset {args.dataset} | num nodes {n} | num edge {e} | num node feats {d} | num classes {c}\")"
   ]
  },
  {
   "cell_type": "code",
   "execution_count": 6,
   "id": "d2782421-4d74-4579-8d00-442fa40efbd7",
   "metadata": {
    "tags": []
   },
   "outputs": [
    {
     "name": "stdout",
     "output_type": "stream",
     "text": [
      "MODEL: NodeFormer(\n",
      "  (convs): ModuleList(\n",
      "    (0-1): 2 x NodeFormerConv(\n",
      "      (Wk): Linear(in_features=128, out_features=128, bias=True)\n",
      "      (Wq): Linear(in_features=128, out_features=128, bias=True)\n",
      "      (Wv): Linear(in_features=128, out_features=128, bias=True)\n",
      "      (Wo): Linear(in_features=128, out_features=128, bias=True)\n",
      "    )\n",
      "  )\n",
      "  (fcs): ModuleList(\n",
      "    (0): Linear(in_features=18738, out_features=128, bias=True)\n",
      "    (1): Linear(in_features=128, out_features=22, bias=True)\n",
      "  )\n",
      "  (bns): ModuleList(\n",
      "    (0-2): 3 x LayerNorm((128,), eps=1e-05, elementwise_affine=True)\n",
      "  )\n",
      "  (chonggou): Sequential(\n",
      "    (0): Linear(in_features=128, out_features=256, bias=True)\n",
      "    (1): ReLU()\n",
      "    (2): Linear(in_features=256, out_features=18738, bias=True)\n",
      "  )\n",
      ")\n"
     ]
    }
   ],
   "source": [
    "# whether or not to symmetrize\n",
    "train_edge = dataset.graph['edge_index']\n",
    "if not args.directed and args.dataset != 'ogbn-proteins':\n",
    "    dataset.graph['edge_index'] = to_undirected(dataset.graph['edge_index']) # 转无向表示\n",
    "\n",
    "dataset.graph['edge_index'], dataset.graph['node_feat'] = \\\n",
    "    dataset.graph['edge_index'].to(device), dataset.graph['node_feat'].to(device)\n",
    "\n",
    "### Load method ###\n",
    "model = parse_method(args, dataset, n, c, d, device)\n",
    "\n",
    "### center loss ###\n",
    "center_loss = CenterLoss(num_classes=c, feat_dim=args.hidden_channels, use_gpu=True)\n",
    "\n",
    "### Loss function (Single-class, Multi-class) ###\n",
    "if args.dataset in ('yelp-chi', 'deezer-europe', 'twitch-e', 'fb100', 'ogbn-proteins'):\n",
    "    criterion = nn.BCEWithLogitsLoss() # 二分类\n",
    "else:\n",
    "    criterion = nn.NLLLoss() # 多分类，负对数似然\n",
    "\n",
    "### Performance metric (Acc, AUC, F1) ###\n",
    "if args.metric == 'rocauc':\n",
    "    eval_func = eval_rocauc\n",
    "elif args.metric == 'f1':\n",
    "    eval_func = eval_f1\n",
    "else:\n",
    "    eval_func = eval_acc\n",
    "\n",
    "logger = Logger(args.runs, args)\n",
    "\n",
    "model.train()\n",
    "print('MODEL:', model)\n",
    "\n",
    "# dataset.graph['edge_index'][0, :] = dataset.graph['edge_index'][0, :].int()\n",
    "# dataset.graph['edge_index'][1, :] = dataset.graph['edge_index'][1, :].int()\n",
    "\n",
    "### Adj storage for relational bias ###\n",
    "adjs = []\n",
    "adj, _ = remove_self_loops(dataset.graph['edge_index'])\n",
    "adj, _ = add_self_loops(adj, num_nodes=n)\n",
    "adjs.append(adj)\n",
    "for i in range(args.rb_order - 1): # edge_index of high order adjacency\n",
    "    adj = adj_mul(adj, adj, n)\n",
    "    adjs.append(adj)\n",
    "dataset.graph['adjs'] = [adj.to(torch.int).to(torch.int64) for adj in adjs]\n",
    "\n",
    "## 去掉用于训练的点对中的自环\n",
    "adj_loss_inter, _ = remove_self_loops(train_edge[:, 0:dataset.n_infer])\n",
    "adj_loss_intra2, _ = remove_self_loops(train_edge[:, dataset.n_infer_intra1:])\n",
    "\n",
    "## 用于后面利益data2图内连接\n",
    "node1_intra = adj_loss_intra2[0]\n",
    "node2_intra = adj_loss_intra2[1]\n",
    "\n",
    "# ## 获得内图的邻接矩阵\n",
    "# adjo, _ = remove_self_loops(dataset.edge)\n",
    "# adjo, _ = add_self_loops(adjo, num_nodes=n)\n",
    "\n",
    "# adj_ = np.zeros((n, n))\n",
    "# for i in range(dataset.edge.size(1)):\n",
    "#     start_node = int(dataset.edge[0, i])\n",
    "#     end_node = int(dataset.edge[1, i])\n",
    "    \n",
    "#     # 添加边到邻接矩阵\n",
    "#     adj_[start_node, end_node] = 1\n",
    "#     adj_[end_node, start_node] = 1\n",
    "\n",
    "\n",
    "# # adj_ = torch_geometric.utils.to_scipy_sparse_matrix(adjo).todense() \n",
    "# intra_ga1 = adj_[0:dataset.n_data1,:][:,0:dataset.n_data1] # data1\n",
    "# intra_ga2 = adj_[dataset.n_data1:,:][:,dataset.n_data1:] # data2\n",
    "\n",
    "# 想给graph1也加一个图损失，待修改\n",
    "# adj_2 = np.zeros((dataset.n_data2, dataset.n_data2))\n",
    "# intra2_graph = train_edge[:, dataset.n_infer:]\n",
    "# for i in range(intra2_graph.size(1)):\n",
    "#     start_node = intra2_graph[0, i] - dataset.n_data1\n",
    "#     end_node = intra2_graph[1, i] - dataset.n_data1\n",
    "#     # 添加边到邻接矩阵\n",
    "#     adj_2[start_node, end_node] = 1\n",
    "#     adj_2[end_node, start_node] = 1\n",
    "# adj_2 = torch.from_numpy(adj_2).float().cuda()\n",
    "# torch.diagonal(adj_2).fill_(1)\n",
    "# adj_2 = intra_ga2/torch.sum(torch.from_numpy(intra_ga2),1)\n",
    "# adj_2 = adj_2.cuda()\n",
    "\n",
    "\n",
    "# ## 除了data1内图外的邻接矩阵，即用于训练的图结构\n",
    "# adj_all = np.zeros((dataset.n_data2, dataset.n_data2))\n",
    "# intra2_graph = train_edge[:, dataset.n_infer:]\n",
    "# for i in range(intra2_graph.size(1)):\n",
    "#     start_node = int(intra2_graph[0, i] - dataset.n_data1)\n",
    "#     end_node = int(intra2_graph[1, i] - dataset.n_data1)\n",
    "#     # 添加边到邻接矩阵\n",
    "#     adj_all[start_node, end_node] = 1\n",
    "#     adj_all[end_node, start_node] = 1\n",
    "# adj_all = torch.from_numpy(adj_all).float().cuda()\n",
    "# torch.diagonal(adj_all).fill_(1)\n",
    "# adj_all = intra_ga2/torch.sum(torch.from_numpy(intra_ga2),0)\n",
    "# adj_all = adj_all.cuda()\n",
    "\n",
    "def top_k(raw_graph, K):\n",
    "    values, indices = raw_graph.topk(k=int(K), dim=-1)\n",
    "    assert torch.max(indices) < raw_graph.shape[1]\n",
    "    mask = torch.zeros(raw_graph.shape).cuda()\n",
    "    mask[torch.arange(raw_graph.shape[0]).view(-1, 1), indices] = 1.\n",
    "    mask.requires_grad = False\n",
    "    sparse_graph = raw_graph * mask\n",
    "    return sparse_graph"
   ]
  },
  {
   "cell_type": "code",
   "execution_count": 7,
   "id": "b5b7359e",
   "metadata": {
    "tags": []
   },
   "outputs": [],
   "source": [
    "from sklearn.metrics.pairwise import cosine_similarity\n",
    "\n",
    "def centre2(dataset, z2, outt):\n",
    "    label1 = dataset.label.squeeze(1)[:dataset.n_data1]\n",
    "    label2 = torch.argmax(outt[dataset.n_data1:], dim=1)\n",
    "    n_label = len(torch.unique(dataset.label.squeeze(1)))\n",
    "    emb_data1 = z2.squeeze(0)[:dataset.n_data1, :]\n",
    "    emb_data2 = z2.squeeze(0)[dataset.n_data1:, :]\n",
    "    ctr_data1 = torch.zeros((n_label, emb_data1.shape[1]), dtype=torch.float32, device=z2.device)\n",
    "    ctr_data2 = torch.zeros((n_label, emb_data2.shape[1]), dtype=torch.float32, device=z2.device)\n",
    "    for k in range(n_label):\n",
    "        mask1 = label1 == k\n",
    "        mask2 = label2 == k\n",
    "        count1 = torch.sum(mask1, dtype=torch.float32)\n",
    "        count2 = torch.sum(mask2, dtype=torch.float32)\n",
    "        ctr_data1[k] = torch.where(mask1.sum() > 0, torch.sum(emb_data1 * mask1[:, None], dim=0) / count1, torch.zeros(emb_data1.shape[1], device=z2.device))\n",
    "        ctr_data2[k] = torch.where(mask2.sum() > 0, torch.sum(emb_data2 * mask2[:, None], dim=0) / count2, torch.zeros(emb_data2.shape[1], device=z2.device))\n",
    "        # selected_emb_data2 = emb_data2[mask2]\n",
    "        # selected_outt = outt[dataset.n_data1:][mask2, k]\n",
    "        # ctr_data2[k] = torch.where(mask2.sum() > 0, torch.sum(selected_emb_data2 * selected_outt[:, None], dim=0) / count2, torch.zeros(emb_data2.shape[1], device=z2.device))\n",
    "    return ctr_data1, ctr_data2, n_label\n"
   ]
  },
  {
   "cell_type": "code",
   "execution_count": 8,
   "id": "9aec7368-3986-4f4f-b460-3d433dad2d9b",
   "metadata": {
    "tags": []
   },
   "outputs": [],
   "source": [
    "import matplotlib.pyplot as plt\n",
    "def plot_histogram(data, label, name = \"\", bin_width=0.1):\n",
    "    # 将CUDA张量转移到CPU\n",
    "    values = data[0].cpu()\n",
    "    categories = data[1].cpu()\n",
    "    label = label.squeeze().cpu()\n",
    "    \n",
    "    # early stop\n",
    "    # pro = sum(data[0] > 0.8)/dataset.n_data2\n",
    "\n",
    "    # 初始化计数向量\n",
    "    count_vector_1 = torch.zeros(int(1 / bin_width)) # 计p的数目\n",
    "    count_vector_2 = torch.zeros(int(1 / bin_width)) # 计正确的数目\n",
    "\n",
    "    # 判断索引与对应的类别向量中的值是否相等\n",
    "    for i in range(len(values)):\n",
    "        index = int(values[i] / bin_width)\n",
    "        if index < len(count_vector_1):\n",
    "            count_vector_1[index] += 1\n",
    "            if categories[i] == label[i]:\n",
    "                count_vector_2[index] += 1\n",
    "\n",
    "    # 绘制直方图\n",
    "    bins = torch.linspace(0, 1, int(1 / bin_width))\n",
    "    \n",
    "    # plt.figure(figsize=(3, 2), dpi=200)\n",
    "    plt.bar(bins, count_vector_1, width=bin_width, align='edge', color='blue', label='False')\n",
    "    plt.bar(bins, count_vector_2, width=bin_width, align='edge', color='orange', label='True', alpha=0.7)\n",
    "    plt.xlabel('Probability')\n",
    "    plt.ylabel('Count')\n",
    "    plt.title(name)\n",
    "    plt.legend()\n",
    "    plt.show()\n",
    "    # plt.savefig('savefig_example.png')"
   ]
  },
  {
   "cell_type": "code",
   "execution_count": 9,
   "id": "4394555d-abf9-4aa6-88a4-67ef67dd37fd",
   "metadata": {
    "tags": []
   },
   "outputs": [],
   "source": [
    "# model.reset_parameters()"
   ]
  },
  {
   "cell_type": "code",
   "execution_count": 10,
   "id": "22fe3670-1113-4e58-be41-7b0f520f5107",
   "metadata": {
    "tags": []
   },
   "outputs": [],
   "source": [
    "MMD = MMDLoss()\n",
    "from torch.utils.data import DataLoader, TensorDataset\n",
    "\n",
    "# 定义 batch size\n",
    "batch_size = 100\n",
    "\n",
    "def cosine_sim(x, y):\n",
    "    x = x / torch.norm(x, dim=1, keepdim=True)\n",
    "    y = y / torch.norm(y, dim=1, keepdim=True)\n",
    "    sim = torch.matmul(x, torch.transpose(y, 0, 1))\n",
    "\n",
    "    return sim"
   ]
  },
  {
   "cell_type": "code",
   "execution_count": null,
   "id": "f0b2a5b0-71c6-4b60-aac9-0ca44c6d227f",
   "metadata": {
    "tags": []
   },
   "outputs": [],
   "source": [
    "### Training loop ###\n",
    "l = 100 # 用于早停\n",
    "num = 0\n",
    "query = torch.arange(dataset.n_data1, dataset.n_data1+dataset.n_data2, dtype=torch.int64, device=device)\n",
    "label_train = dataset.label.squeeze(1).clone()\n",
    "for run in range(args.runs):\n",
    "    split_idx = split_idx_lst[run]\n",
    "    train_idx = split_idx['train'].to(device)\n",
    "    model.reset_parameters()\n",
    "    \n",
    "    params = list(model.parameters()) + list(center_loss.parameters())\n",
    "    optimizer = torch.optim.Adam(params,weight_decay=args.weight_decay, lr=args.lr)\n",
    "    # scheduler = torch.optim.lr_scheduler.StepLR(optimizer, step_size=2000, gamma=0.2)\n",
    "    \n",
    "    best_val = float('-inf')\n",
    "    best_query = float('-inf')\n",
    "\n",
    "    for epoch in range(args.epochs):\n",
    "        \n",
    "        # scheduler.step()\n",
    "        \n",
    "        model.train()\n",
    "        optimizer.zero_grad()\n",
    "\n",
    "        \n",
    "        # out, z1, z2 = model(dataset)\n",
    "        out, link_loss_, z1, z2, chonggou = model(dataset.graph['node_feat'], dataset.graph['adjs'], args.tau)\n",
    "        \n",
    "        \n",
    "        label1 = dataset.label.squeeze()[0:dataset.n_data1]\n",
    "\n",
    "        outt = F.log_softmax(out, dim=1)\n",
    "        p = F.softmax(out, dim=1)\n",
    "        \n",
    "\n",
    "        loss = criterion(\n",
    "            outt[train_idx], label_train[train_idx])\n",
    "        loss = torch.clamp(loss - 0.0, min=0)\n",
    "        \n",
    "        # 计算训练后锚点对间的MSE损失。希望锚点对尽量的接近\n",
    "        node1_inter = adj_loss_inter[0].int()\n",
    "        node2_inter = adj_loss_inter[1].int()\n",
    "        feature1_inter = z2[:,node1_inter, :] ###\n",
    "        feature2_inter = z2[:,node2_inter, :] ###\n",
    "        mse_loss_inter = F.mse_loss(feature1_inter, feature2_inter)\n",
    "        mse_loss_inter = torch.clamp(mse_loss_inter - 0.1, min=0)\n",
    "\n",
    "        loss += (mse_loss_inter)# + mse_loss_intra\n",
    "\n",
    "        # # data2图结构的第二种损失，靠邻域的平滑\n",
    "        # z_data2 = z2.squeeze(0)[dataset.n_data1:, :].double()\n",
    "        # loss_preg = torch.mean(torch.norm(torch.mm(adj_all, z_data2) - z_data2, p = 2, dim = 1) / 2)\n",
    "        # loss += torch.clamp(loss_preg - 1, min=0)\n",
    "\n",
    "        # if args.method == 'nodeformer':\n",
    "        #     loss -= args.lamda*0.2 * sum(link_loss_) / len(link_loss_)\n",
    "        \n",
    "        # data2图内连接损失\n",
    "        values, indices = torch.max(p, dim=1)\n",
    "        node1_values = values[node1_intra.int()]\n",
    "        node2_values = values[node2_intra.int()]\n",
    "        node1_indices = indices[node1_intra.int()]\n",
    "        node2_indices = indices[node2_intra.int()]\n",
    "\n",
    "        a = node1_values * node2_values * (node1_indices == node2_indices).float()\n",
    "        a[a > 0.01] = 1\n",
    "        loss_inter2 = 1 - torch.sum(a) / len(a)\n",
    "        loss += torch.clamp(loss_inter2 - 0.1, min=0)\n",
    "            \n",
    "        # print(loss)\n",
    "        # assert False, print('测试！')\n",
    "        \n",
    "        # atac重构损失\n",
    "        # loss += 1*F.mse_loss(chonggou.squeeze()[dataset.n_data1: , :], dataset.graph['node_feat'][dataset.n_data1: , :])\n",
    "        \n",
    "        \n",
    "        \n",
    "#         ## MMD损失\n",
    "#         d1 = z2[: ,0: dataset.n_data1, :].squeeze()\n",
    "#         d2 = z2[: ,dataset.n_data1: , :].squeeze()\n",
    "#         # 创建 DataLoader 来分批次加载数据\n",
    "#         d1_dataset = TensorDataset(d1)\n",
    "#         d2_dataset = TensorDataset(d2)\n",
    "#         d1_dataloader = DataLoader(d1_dataset, batch_size=batch_size, shuffle=True)\n",
    "#         d2_dataloader = DataLoader(d2_dataset, batch_size=batch_size, shuffle=True)\n",
    "        \n",
    "#         total_loss = 0.0\n",
    "#         # sim_loss = 0.0\n",
    "#         for d1_batch, d2_batch in zip(d1_dataloader, d2_dataloader):\n",
    "#             source = d1_batch[0]\n",
    "#             target = d2_batch[0]\n",
    "#             # 计算当前批次的 MMD 损失\n",
    "#             total_loss += MMD(source=source, target=target).item()\n",
    "            \n",
    "#             # top_k_sim = torch.topk(\n",
    "#             #     torch.max(cosine_sim(target, source), dim=1)[0],\n",
    "#             #     int(target.shape[0] * 0.6))\n",
    "#             # sim_loss += torch.mean(top_k_sim[0])\n",
    "\n",
    "#         # 计算平均损失\n",
    "#         average_loss = total_loss / len(d1_dataloader)\n",
    "#         loss += average_loss\n",
    "        \n",
    "        # sim_loss = sim_loss / len(d1_dataloader)\n",
    "        # loss += 1 - sim_loss\n",
    "        \n",
    "#         d1 = z1[: ,0: dataset.n_data1, :].squeeze()\n",
    "#         d2 = z1[: ,dataset.n_data1: , :].squeeze()\n",
    "#         # 创建 DataLoader 来分批次加载数据\n",
    "#         d1_dataset = TensorDataset(d1)\n",
    "#         d2_dataset = TensorDataset(d2)\n",
    "#         d1_dataloader = DataLoader(d1_dataset, batch_size=batch_size, shuffle=True)\n",
    "#         d2_dataloader = DataLoader(d2_dataset, batch_size=batch_size, shuffle=True)\n",
    "        \n",
    "#         total_loss = 0.0\n",
    "#         for d1_batch, d2_batch in zip(d1_dataloader, d2_dataloader):\n",
    "#             source = d1_batch[0]\n",
    "#             target = d2_batch[0]\n",
    "#             # 计算当前批次的 MMD 损失\n",
    "#             total_loss += MMD(source=source, target=target).item()\n",
    "#         # 计算平均损失\n",
    "#         average_loss = total_loss / len(d1_dataloader)\n",
    "#         loss += average_loss\n",
    "        \n",
    "        \n",
    "        \n",
    "        \n",
    "        loss.backward()\n",
    "        \n",
    "        # for param in center_loss.parameters():\n",
    "        #     # lr_cent is learning rate for center loss, e.g. lr_cent = 0.5\n",
    "        #     param.grad.data *= (0.5 / (alpha * args.lr))\n",
    "    \n",
    "        optimizer.step()\n",
    "\n",
    "        if epoch % args.eval_step == 0:\n",
    "            result = evaluate(model, dataset, split_idx, eval_func, criterion, args)\n",
    "            logger.add_result(run, result[:-1])\n",
    "            \n",
    "            selected_indices = torch.nonzero(torch.max(p, axis = 1)[0][query] > 0.95).squeeze()\n",
    "\n",
    "            # 将符合条件的索引从 data2 移动到 data1\n",
    "            if (selected_indices.numel() and epoch % 50 == 0):\n",
    "                if query[selected_indices].dim() == 0:\n",
    "                    query_selected = query[selected_indices].unsqueeze(0)\n",
    "                else:\n",
    "                    query_selected = query[selected_indices]\n",
    "                train_idx = torch.cat((train_idx, query_selected), dim=0)\n",
    "            \n",
    "                print(\"123: \",sum(label_train[query_selected] == torch.max(p, axis=1)[1][query_selected])/(1+int(label_train[query_selected].size(0))))\n",
    "                print(\"数目: \", int(label_train[query_selected].size(0)), \". 正确的数目: \", sum(label_train[query_selected] == torch.max(p, axis=1)[1][query_selected]))\n",
    "            \n",
    "                label_train[query_selected] = torch.max(p, axis=1)[1][query_selected]\n",
    "\n",
    "                # 从 data2 的索引中去掉已移动的索引\n",
    "                mask = torch.ones_like(query, dtype=torch.bool)\n",
    "                mask[selected_indices] = 0\n",
    "                # 通过布尔掩码筛选保留的元素\n",
    "                query = query[mask]\n",
    "\n",
    "            print(f'Epoch: {epoch:02d}, '\n",
    "                  f'Loss: {loss:.4f}, '\n",
    "                  f'Train: {100 * result[0]:.2f}%, '\n",
    "                  f'Valid: {100 * result[1]:.2f}%, '\n",
    "                  f'Test: {100 * result[2]:.2f}%, '\n",
    "                  f'Query: {100 * result[3]:.2f}%')\n",
    "            \n",
    "        if epoch % 50 == 0:\n",
    "            # plt.figure(figsize=(3,2))\n",
    "            # plot_histogram(torch.max(p[0:dataset.n_data1,:], axis=1), dataset.label[0:dataset.n_data1], name = \"reference\", bin_width=0.1)    \n",
    "            plt.figure(figsize=(3,2))\n",
    "            plot_histogram(torch.max(p[dataset.n_data1:,:], axis=1), dataset.label[dataset.n_data1:], name = \"query\", bin_width=0.1)\n",
    "        \n",
    "        if l > loss:\n",
    "            l = loss\n",
    "            query_acc = result[3];\n",
    "            num = 0\n",
    "            ## 保存最优结果\n",
    "            filename = f'../results/{args.dataset}.csv'\n",
    "            # print(f\"Saving results to {filename}\")\n",
    "            torch.save(z2, '../results/embedding.pt')\n",
    "            torch.save(p, '../results/out.pt')\n",
    "            torch.save(split_idx_lst, '../results/split_idx_lst.pt')\n",
    "            torch.save(dataset.label, '../results/label.pt')\n",
    "            torch.save(dataset.num_celltype, '../results/num_celltype.pt')\n",
    "            torch.save(dataset.metadata, '../results/metadata.pt')\n",
    "            torch.save(default_args, '../results/args.pt')\n",
    "            with open(f\"{filename}\", 'w') as write_obj:\n",
    "                write_obj.write(f\"{args.method},\" +\n",
    "                                f\"epoch: {epoch:02d},\" +\n",
    "                                f\"Query: {100 * result[3]:.2f}%\")\n",
    "        else:\n",
    "            num = num + 1\n",
    "        \n",
    "        # pro = sum(torch.max(p[dataset.n_data1:,:], axis=1)[0] > 0.8)/dataset.n_data2\n",
    "        # print(pro)\n",
    "        if num >= 50:# or pro > 0.8:\n",
    "            print (f'Answer Query: {100 * query_acc:.2f}%')\n",
    "            break;\n",
    "        \n",
    "        #if result[1] > best_val:\n",
    "        # if epoch == 385:\n",
    "        #         best_val = result[1]\n",
    "        #         best_query = result[3]\n",
    "                \n",
    "        #         os.makedirs(args.model_dir, exist_ok=True)\n",
    "        #         os.makedirs('../results/', exist_ok=True)\n",
    "                \n",
    "        #         if args.save_model:\n",
    "        #             torch.save(model.state_dict(), args.model_dir + f'{args.dataset}-{args.method}.pkl')\n",
    "                \n",
    "        #         ### Save results ###\n",
    "        #         filename = f'../results/{args.dataset}.csv'\n",
    "        #         print(f\"Saving results to {filename}\")\n",
    "        #         with open(f\"{filename}\", 'w') as write_obj:\n",
    "        #             write_obj.write(f\"{args.method},\" +\n",
    "        #                             f\"epoch: {epoch:02d},\" +\n",
    "        #                             f\"Query: {100 * result[3]:.2f}%\")\n",
    "                    \n",
    "        #         torch.save(z2, '../results/embedding.pt')\n",
    "        #         torch.save(p, '../results/out.pt')\n",
    "\n",
    "    logger.print_statistics(run)\n",
    "    \n",
    "    \n",
    "# torch.save(split_idx_lst, '../results/split_idx_lst.pt')\n",
    "# torch.save(dataset.label, '../results/label.pt')\n",
    "# torch.save(dataset.num_celltype, '../results/num_celltype.pt')\n",
    "# torch.save(dataset.metadata, '../results/metadata.pt')\n",
    "# torch.save(default_args, '../results/args.pt')\n",
    "results = logger.print_statistics()\n",
    "\n",
    "# ### Save results ###\n",
    "# filename = f'results/{args.dataset}.csv'\n",
    "# print(f\"Saving results to {filename}\")\n",
    "# with open(f\"{filename}\", 'a+') as write_obj:\n",
    "#     write_obj.write(f\"{args.method},\" +\n",
    "#                     f\"{best_val.mean():.3f} ± {best_val.std():.3f},\" +\n",
    "#                     f\"{best_test.mean():.3f} ± {best_test.std():.3f}\\n\")"
   ]
  },
  {
   "cell_type": "code",
   "execution_count": null,
   "id": "f145d17a-5eac-4b73-bfca-94f5ff3e003a",
   "metadata": {
    "tags": []
   },
   "outputs": [],
   "source": [
    "embedding = torch.load('../results/embedding.pt', map_location=torch.device('cpu'))\n",
    "embedding = embedding[0].detach().numpy()\n",
    "\n",
    "label = torch.load('../results/label.pt', map_location=torch.device('cpu')) # 原始的类型\n",
    "label = label.squeeze().numpy() \n",
    "\n",
    "out = torch.load('../results/out.pt', map_location=torch.device('cpu')) # 预测的类型\n",
    "pre = out.argmax(dim=-1, keepdim=True).detach().squeeze().numpy()\n",
    "pro = out.max(dim=-1, keepdim=True)[0].detach().squeeze().numpy()\n",
    "\n",
    "metadata = torch.load('../results/metadata.pt', map_location=torch.device('cpu')) # tech\n",
    "metadata = metadata.squeeze().numpy() \n",
    "\n",
    "num_celltype = torch.load('../results/num_celltype.pt', map_location=torch.device('cpu')) # 数字与类型的对应关系\n",
    "print(num_celltype)"
   ]
  },
  {
   "cell_type": "code",
   "execution_count": 12,
   "id": "7e993b24-de45-4708-8d87-7086d8db87a7",
   "metadata": {
    "tags": []
   },
   "outputs": [
    {
     "name": "stdout",
     "output_type": "stream",
     "text": [
      "{0: 'Ast', 1: 'Clau', 2: 'E2Rasgrf2', 3: 'E3Rmst', 4: 'E3Rorb', 5: 'E4Il1rapl2', 6: 'E4Thsd7a', 7: 'E5Galnt14', 8: 'E5Parm1', 9: 'E5Sulf1', 10: 'E5Tshz2', 11: 'E6Tle4', 12: 'Endo', 13: 'InN', 14: 'InP', 15: 'InS', 16: 'InV', 17: 'Mic', 18: 'OPC', 19: 'OliI', 20: 'OliM', 21: 'Peri'}\n"
     ]
    }
   ],
   "source": [
    "# 画图\n",
    "import numpy as np\n",
    "from sklearn.manifold import TSNE\n",
    "import matplotlib.pyplot as plt\n",
    "import torch\n",
    "\n",
    "embedding = z2.cpu()\n",
    "embedding = embedding[0].detach().numpy()#\n",
    "\n",
    "label = dataset.label.cpu() # 原始的类型\n",
    "label = label.squeeze().numpy() \n",
    "\n",
    "metadata = dataset.metadata.cpu()\n",
    "metadata = metadata.squeeze().numpy() \n",
    "\n",
    "out = p.cpu() # 预测的类型\n",
    "pre = out.argmax(dim=-1, keepdim=True).detach().squeeze().numpy()\n",
    "\n",
    "num_celltype = dataset.num_celltype # 数字与类型的对应关系\n",
    "print(num_celltype)"
   ]
  },
  {
   "cell_type": "code",
   "execution_count": 13,
   "id": "d55884bf-18c6-49bd-b933-f546b1e91abc",
   "metadata": {
    "tags": []
   },
   "outputs": [],
   "source": [
    "# # tsne降维\n",
    "# tsne = TSNE(n_components=2, random_state=42)\n",
    "# embedding_tsne = tsne.fit_transform(embedding)"
   ]
  },
  {
   "cell_type": "code",
   "execution_count": 14,
   "id": "d6e93afb",
   "metadata": {
    "tags": []
   },
   "outputs": [],
   "source": [
    "import umap\n",
    "umap_model = umap.UMAP(n_neighbors=5, n_components=2, metric='euclidean')\n",
    "embedding_tsne = umap_model.fit_transform(embedding)"
   ]
  },
  {
   "cell_type": "code",
   "execution_count": 15,
   "id": "99c073d4-1d62-474d-a937-4c5aef171129",
   "metadata": {
    "tags": []
   },
   "outputs": [
    {
     "data": {
      "image/png": "[encoded data removed]",
      "text/plain": [
       "<Figure size 640x480 with 1 Axes>"
      ]
     },
     "metadata": {},
     "output_type": "display_data"
    }
   ],
   "source": [
    "# celltype着色\n",
    "%matplotlib inline\n",
    "labels = np.unique(label)  # 获取唯一的标签值\n",
    "for i in labels:\n",
    "    plt.scatter(embedding_tsne[label == i, 0], embedding_tsne[label == i, 1], s=0.5, label=str(i))\n",
    "plt.legend()\n",
    "plt.show()"
   ]
  },
  {
   "cell_type": "code",
   "execution_count": 16,
   "id": "374aa253-f135-4777-8893-a2238ccec226",
   "metadata": {
    "tags": []
   },
   "outputs": [
    {
     "data": {
      "text/plain": [
       "(0.44511417, 0.0019665484, 0.56159174)"
      ]
     },
     "execution_count": 16,
     "metadata": {},
     "output_type": "execute_result"
    }
   ],
   "source": [
    "from sklearn.metrics import silhouette_score,silhouette_samples, accuracy_score, f1_score\n",
    "import pandas as pd\n",
    "import numpy as np\n",
    "## 轮廓系数\n",
    "sil_type = silhouette_samples(np.array(embedding_tsne), label)\n",
    "sil_omic = silhouette_samples(np.array(embedding_tsne), metadata)\n",
    "sil_f1 = (\n",
    "            2\n",
    "            * (1 - (sil_omic + 1) / 2)\n",
    "            * (sil_type + 1)\n",
    "            / 2\n",
    "            / (1 - (sil_omic + 1) / 2 + (sil_type + 1) / 2)\n",
    "        )\n",
    "sil_type.mean(), sil_omic.mean(), sil_f1.mean()"
   ]
  },
  {
   "cell_type": "code",
   "execution_count": 17,
   "id": "337fa106-2ad9-40e3-a513-aa6211b5d58d",
   "metadata": {
    "tags": []
   },
   "outputs": [
    {
     "data": {
      "image/png": "[encoded data removed]",
      "text/plain": [
       "<Figure size 640x480 with 1 Axes>"
      ]
     },
     "metadata": {},
     "output_type": "display_data"
    }
   ],
   "source": [
    "# pre着色\n",
    "%matplotlib inline\n",
    "pres = np.unique(pre)  # 获取唯一的标签值\n",
    "for i in pres:\n",
    "    plt.scatter(embedding_tsne[pre == i, 0], embedding_tsne[pre == i, 1], s=0.5, label=str(i))\n",
    "plt.legend()\n",
    "plt.show()"
   ]
  },
  {
   "cell_type": "code",
   "execution_count": 18,
   "id": "bb605adc-3b10-427d-8533-4575be2df63f",
   "metadata": {
    "tags": []
   },
   "outputs": [
    {
     "data": {
      "image/png": "[encoded data removed]",
      "text/plain": [
       "<Figure size 640x480 with 1 Axes>"
      ]
     },
     "metadata": {},
     "output_type": "display_data"
    }
   ],
   "source": [
    "# tech着色\n",
    "%matplotlib inline\n",
    "metadatas = np.unique(metadata)  # 获取唯一的标签值\n",
    "for i in metadatas:\n",
    "    plt.scatter(embedding_tsne[metadata == i, 0], embedding_tsne[metadata == i, 1], s=0.01, label=str(i))\n",
    "plt.legend()\n",
    "plt.show()"
   ]
  },
  {
   "cell_type": "code",
   "execution_count": null,
   "id": "92a1e1e1-3aa7-4a52-ab22-69068217f3b5",
   "metadata": {
    "tags": []
   },
   "outputs": [],
   "source": []
  },
  {
   "cell_type": "code",
   "execution_count": null,
   "id": "78b599bc-265c-463b-a506-d0f27eb34973",
   "metadata": {
    "tags": []
   },
   "outputs": [],
   "source": [
    "#                 best_val = result[1]\n",
    "#                 best_query = result[3]\n",
    "                \n",
    "#                 os.makedirs(args.model_dir, exist_ok=True)\n",
    "#                 os.makedirs('../resultscolon/', exist_ok=True)\n",
    "                \n",
    "#                 if args.save_model:\n",
    "#                     torch.save(model.state_dict(), args.model_dir + f'{args.dataset}-{args.method}.pkl')\n",
    "                \n",
    "#                 ### Save results ###\n",
    "#                 filename = f'../resultscolon/{args.dataset}.csv'\n",
    "#                 print(f\"Saving results to {filename}\")\n",
    "#                 with open(f\"{filename}\", 'w') as write_obj:\n",
    "#                     write_obj.write(f\"{args.method},\" +\n",
    "#                                     f\"epoch: {epoch:02d},\" +\n",
    "#                                     f\"Query: {100 * result[3]:.2f}%\")\n",
    "                    \n",
    "#                 torch.save(z2, '../resultscolon/embedding.pt')\n",
    "#                 torch.save(p, '../resultscolon/out.pt')\n",
    "     \n",
    "# torch.save(split_idx_lst, '../resultscolon/split_idx_lst.pt')\n",
    "# torch.save(dataset.label, '../resultscolon/label.pt')\n",
    "# torch.save(dataset.num_celltype, '../resultscolon/num_celltype.pt')\n",
    "# torch.save(dataset.metadata, '../resultscolon/metadata.pt')\n",
    "# torch.save(default_args, '../resultscolon/args-0.004-7.pt')"
   ]
  },
  {
   "cell_type": "code",
   "execution_count": 20,
   "id": "a0d40f4b-32dd-4dd9-af47-784e40a6a4a7",
   "metadata": {
    "tags": []
   },
   "outputs": [
    {
     "name": "stdout",
     "output_type": "stream",
     "text": [
      "{0: 'Ast', 1: 'Clau', 2: 'E2Rasgrf2', 3: 'E3Rmst', 4: 'E3Rorb', 5: 'E4Il1rapl2', 6: 'E4Thsd7a', 7: 'E5Galnt14', 8: 'E5Parm1', 9: 'E5Sulf1', 10: 'E5Tshz2', 11: 'E6Tle4', 12: 'Endo', 13: 'InN', 14: 'InP', 15: 'InS', 16: 'InV', 17: 'Mic', 18: 'OPC', 19: 'OliI', 20: 'OliM', 21: 'Peri'}\n"
     ]
    }
   ],
   "source": [
    "embedding = torch.load('../results/embedding.pt', map_location=torch.device('cpu'))\n",
    "embedding = embedding[0].detach().numpy()\n",
    "\n",
    "label = torch.load('../results/label.pt', map_location=torch.device('cpu')) # 原始的类型\n",
    "label = label.squeeze().numpy() \n",
    "\n",
    "out = torch.load('../results/out.pt', map_location=torch.device('cpu')) # 预测的类型\n",
    "pre = out.argmax(dim=-1, keepdim=True).detach().squeeze().numpy()\n",
    "pro = out.max(dim=-1, keepdim=True)[0].detach().squeeze().numpy()\n",
    "\n",
    "metadata = torch.load('../results/metadata.pt', map_location=torch.device('cpu')) # tech\n",
    "metadata = metadata.squeeze().numpy() \n",
    "\n",
    "num_celltype = torch.load('../results/num_celltype.pt', map_location=torch.device('cpu')) # 数字与类型的对应关系\n",
    "print(num_celltype)"
   ]
  },
  {
   "cell_type": "code",
   "execution_count": 21,
   "id": "ed8de5ba-c80e-48ca-b053-7af9ff232262",
   "metadata": {
    "tags": []
   },
   "outputs": [],
   "source": [
    "celltype = [num_celltype[i] for i in label]\n",
    "pre = [num_celltype[i] for i in pre]\n",
    "umap1 = embedding_tsne[:,0]\n",
    "umap2 = embedding_tsne[:,1]\n",
    "metadata = [\"scATAC-seq\" if i == 2 else \"scRNA-seq\" for i in metadata]\n",
    "import pandas as pd\n",
    "p = {   'UMAP1' : umap1,\n",
    "        'UMAP2' : umap2,\n",
    "        'celltype' : celltype,\n",
    "        'pre' : pre,\n",
    "        'tech' : metadata,\n",
    "        'pro' : pro}\n",
    "p = pd.DataFrame(p)\n",
    "p.to_csv('../results/data_list.csv', index=False)\n",
    "p2 = p[p['tech'] == \"scATAC-seq\"]\n",
    "p2.to_csv('../results/data2_list.csv', index=False)"
   ]
  },
  {
   "cell_type": "code",
   "execution_count": null,
   "id": "6988a284-4237-47ec-95bb-357b70863c08",
   "metadata": {},
   "outputs": [],
   "source": []
  }
 ],
 "metadata": {
  "kernelspec": {
   "display_name": "Python 3 (ipykernel)",
   "language": "python",
   "name": "python3"
  },
  "language_info": {
   "codemirror_mode": {
    "name": "ipython",
    "version": 3
   },
   "file_extension": ".py",
   "mimetype": "text/x-python",
   "name": "python",
   "nbconvert_exporter": "python",
   "pygments_lexer": "ipython3",
   "version": "3.8.18"
  },
  "vscode": {
   "interpreter": {
    "hash": "2f394aca7ca06fed1e6064aef884364492d7cdda3614a461e02e6407fc40ba69"
   }
  }
 },
 "nbformat": 4,
 "nbformat_minor": 5
}
