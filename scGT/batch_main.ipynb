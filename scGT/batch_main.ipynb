{
 "cells": [
  {
   "cell_type": "code",
   "execution_count": 2,
   "id": "ca05748e-c83f-4550-8ea6-2985cf19d235",
   "metadata": {
    "tags": []
   },
   "outputs": [],
   "source": [
    "import argparse\n",
    "import sys\n",
    "import os, random\n",
    "import numpy as np\n",
    "import torch\n",
    "import torch.nn as nn\n",
    "import torch.nn.functional as F\n",
    "from torch_geometric.utils import subgraph\n",
    "from torch_scatter import scatter\n",
    "import dataset\n",
    "from dataset import input_dataset\n",
    "from utils import read_data, scGT_output\n",
    "from parse import parse_method\n",
    "from train import model_train\n",
    "from plot import umap_emb\n",
    "from scGT import *\n",
    "import matplotlib.pyplot as plt\n",
    "import time\n",
    "import warnings\n",
    "warnings.filterwarnings('ignore')\n",
    "\n",
    "def fix_seed(seed):\n",
    "    random.seed(seed)\n",
    "    np.random.seed(seed)\n",
    "    torch.manual_seed(seed)\n",
    "    torch.cuda.manual_seed(seed)\n",
    "    torch.backends.cudnn.deterministic = True"
   ]
  },
  {
   "cell_type": "code",
   "execution_count": null,
   "id": "85c4d976-cb55-48d6-b3db-a448a23936ea",
   "metadata": {
    "tags": []
   },
   "outputs": [],
   "source": [
    "parser = argparse.ArgumentParser()\n",
    "default_args = {\n",
    "    'dataset': 'data',\n",
    "    'data_dir': '../data/dataset_name/', \n",
    "    'device': 0, \n",
    "    'seed': 42, \n",
    "    'maxepochs': 5000,\n",
    "    'eval_step': 10,\n",
    "    'model_dir': '../model/', \n",
    "    'hidden_channels': 128,\n",
    "    'lr': 1e-4,              \n",
    "    'weight_decay': 1e-2,\n",
    "    'lamda1': 0.1,          \n",
    "    'lamda2': 0.1,          \n",
    "    'num_batch': 1,          \n",
    "    'early_stop':30,        \n",
    "    'is_move': True         \n",
    "}\n",
    "\"\"\"\n",
    "'data_dir': Input path\n",
    "'model_dir': Model storage path\n",
    "'seed': Seed\n",
    "'lr': Learning rate\n",
    "'lamda1': Hard regularity relaxation coefficient\n",
    "'lamda2': Query graph regularity relaxation coefficient\n",
    "'num_batch': How many subgraphs to create. If the GPU allows, it's best to be as small as possible\n",
    "'early_stop': Early stop epoch\n",
    "'is_move': Whether move query data to reference if confidence score > 0.95\n",
    "\"\"\"\n",
    "\n",
    "\n",
    "args = argparse.Namespace(**default_args)\n",
    "print(args)\n",
    "\n",
    "fix_seed(args.seed)\n",
    "device = torch.device(\"cuda:\" + str(args.device)) if torch.cuda.is_available() else torch.device(\"cpu\")"
   ]
  },
  {
   "cell_type": "code",
   "execution_count": null,
   "id": "c77b3caf-0f18-45c2-b757-7716f2eab432",
   "metadata": {
    "tags": []
   },
   "outputs": [],
   "source": [
    "%%time\n",
    "import time\n",
    "\n",
    "### Load and preprocess data ###\n",
    "dataset = input_dataset(args.data_dir, args.dataset)\n",
    "dataset, x, n, c, d, split_idx, adjs, adj_loss_inter, adj_loss_intra2 = read_data(args, dataset)"
   ]
  },
  {
   "cell_type": "code",
   "execution_count": null,
   "id": "8801a333-8344-40cf-a299-7203c44c74b2",
   "metadata": {
    "tags": []
   },
   "outputs": [],
   "source": [
    "### Load method ###\n",
    "model = parse_method(args, dataset, n, c, d, device)\n",
    "model.train()\n",
    "print('MODEL:', model)"
   ]
  },
  {
   "cell_type": "code",
   "execution_count": null,
   "id": "b23bd498-66d8-4778-9275-25047618075c",
   "metadata": {
    "tags": []
   },
   "outputs": [],
   "source": [
    "### Train ###\n",
    "model_train(args, dataset, model, split_idx, device, x, n, adjs, adj_loss_inter, adj_loss_intra2)"
   ]
  },
  {
   "cell_type": "code",
   "execution_count": null,
   "id": "b2860fc7-f111-4c76-9ea2-db61e0bbe27e",
   "metadata": {
    "tags": []
   },
   "outputs": [],
   "source": [
    "### umap_emb ###\n",
    "embedding_umap, label, pre, tech = umap_emb(args, model, dataset, x, adjs)"
   ]
  },
  {
   "cell_type": "code",
   "execution_count": null,
   "id": "3f93d95a-4523-4107-a51f-319a98eaebc7",
   "metadata": {
    "tags": []
   },
   "outputs": [],
   "source": [
    "# celltype\n",
    "%matplotlib inline\n",
    "labels = np.unique(label)\n",
    "for i in labels:\n",
    "    plt.scatter(embedding_umap[label == i, 0], embedding_umap[label == i, 1], s=0.5, label=str(i))\n",
    "plt.legend()\n",
    "plt.show()"
   ]
  },
  {
   "cell_type": "code",
   "execution_count": null,
   "id": "8e806fe2-eca3-4db1-9791-023921857bcb",
   "metadata": {
    "tags": []
   },
   "outputs": [],
   "source": [
    "# tech\n",
    "%matplotlib inline\n",
    "techs = np.unique(tech) \n",
    "for i in techs:\n",
    "    plt.scatter(embedding_umap[tech == i, 0], embedding_umap[tech == i, 1], s=0.01, label=str(i))\n",
    "plt.legend()\n",
    "plt.show()"
   ]
  },
  {
   "cell_type": "code",
   "execution_count": null,
   "id": "3b51d59a-5b1a-4fae-9532-a2b50201ba80",
   "metadata": {
    "tags": []
   },
   "outputs": [],
   "source": [
    "# 'data_dir'+'results/embedding.pt'   is the low-dimensional embedding for joint visualization\n",
    "output = scGT_output(args)\n",
    "output[-20:-10] "
   ]
  }
 ],
 "metadata": {
  "kernelspec": {
   "display_name": "Python 3 (ipykernel)",
   "language": "python",
   "name": "python3"
  },
  "language_info": {
   "codemirror_mode": {
    "name": "ipython",
    "version": 3
   },
   "file_extension": ".py",
   "mimetype": "text/x-python",
   "name": "python",
   "nbconvert_exporter": "python",
   "pygments_lexer": "ipython3",
   "version": "3.8.18"
  }
 },
 "nbformat": 4,
 "nbformat_minor": 5
}
